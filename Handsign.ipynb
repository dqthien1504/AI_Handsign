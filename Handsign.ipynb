{
  "nbformat": 4,
  "nbformat_minor": 0,
  "metadata": {
    "colab": {
      "name": "Handsign.ipynb",
      "provenance": []
    },
    "kernelspec": {
      "name": "python3",
      "display_name": "Python 3"
    },
    "language_info": {
      "name": "python"
    },
    "accelerator": "GPU",
    "gpuClass": "standard"
  },
  "cells": [
    {
      "cell_type": "code",
      "execution_count": null,
      "metadata": {
        "colab": {
          "base_uri": "https://localhost:8080/"
        },
        "id": "CXNig19roPFz",
        "outputId": "040b5d61-d046-44e2-fcf7-e8e52a041b38"
      },
      "outputs": [
        {
          "output_type": "stream",
          "name": "stdout",
          "text": [
            "Mounted at /content/drive\n"
          ]
        }
      ],
      "source": [
        "from google.colab import drive\n",
        "drive.mount('/content/drive')\n",
        "\n",
        "import cv2 as cv\n",
        "import numpy as np\n",
        "import os \n",
        "import tensorflow as tf\n",
        "import matplotlib.pyplot as plt\n",
        "import pickle\n",
        "import random\n",
        "from tqdm import tqdm"
      ]
    },
    {
      "cell_type": "code",
      "source": [
        "datadir = \"/content/drive/MyDrive/Handsign/Train\"\n",
        "categories=['01_palm','02_l','03_fist','04_fist_moved','05_thumb','06_index','07_ok','08_palm_moved','09_c','10_down']\n",
        "img_size=100\n",
        "for category in categories:\n",
        "  path=os.path.join(datadir,category)\n",
        "  for img in os.listdir(path):\n",
        "    img_array = cv.imread(os.path.join(path,img),cv.IMREAD_COLOR)\n",
        "    new_array = cv.resize(img_array,(img_size,img_size))\n",
        "    print(new_array)\n",
        "    plt.imshow(new_array,cmap='gray')\n",
        "    plt.show()\n",
        "    break\n",
        "  break"
      ],
      "metadata": {
        "colab": {
          "base_uri": "https://localhost:8080/",
          "height": 1000
        },
        "id": "yHzaRTL6oUTX",
        "outputId": "ec142b7f-84c1-492c-d800-170125501401"
      },
      "execution_count": null,
      "outputs": [
        {
          "output_type": "stream",
          "name": "stdout",
          "text": [
            "[[[5 5 5]\n",
            "  [4 4 4]\n",
            "  [5 5 5]\n",
            "  ...\n",
            "  [3 3 3]\n",
            "  [4 4 4]\n",
            "  [3 3 3]]\n",
            "\n",
            " [[5 5 5]\n",
            "  [6 6 6]\n",
            "  [5 5 5]\n",
            "  ...\n",
            "  [3 3 3]\n",
            "  [3 3 3]\n",
            "  [4 4 4]]\n",
            "\n",
            " [[4 4 4]\n",
            "  [5 5 5]\n",
            "  [6 6 6]\n",
            "  ...\n",
            "  [4 4 4]\n",
            "  [4 4 4]\n",
            "  [3 3 3]]\n",
            "\n",
            " ...\n",
            "\n",
            " [[4 4 4]\n",
            "  [4 4 4]\n",
            "  [5 5 5]\n",
            "  ...\n",
            "  [4 4 4]\n",
            "  [5 5 5]\n",
            "  [6 6 6]]\n",
            "\n",
            " [[5 5 5]\n",
            "  [6 6 6]\n",
            "  [7 7 7]\n",
            "  ...\n",
            "  [4 4 4]\n",
            "  [5 5 5]\n",
            "  [5 5 5]]\n",
            "\n",
            " [[4 4 4]\n",
            "  [4 4 4]\n",
            "  [5 5 5]\n",
            "  ...\n",
            "  [5 5 5]\n",
            "  [4 4 4]\n",
            "  [7 7 7]]]\n"
          ]
        },
        {
          "output_type": "display_data",
          "data": {
            "text/plain": [
              "<Figure size 432x288 with 1 Axes>"
            ],
            "image/png": "[encoded data removed]"
          },
          "metadata": {
            "needs_background": "light"
          }
        }
      ]
    },
    {
      "cell_type": "code",
      "source": [
        "training_data=[]\n",
        "def create_traning_data():\n",
        "\n",
        "  for category in categories:\n",
        "    path = os.path.join(datadir,category)\n",
        "    class_num = categories.index(category)\n",
        "\n",
        "    for img in tqdm(os.listdir(path)):\n",
        "      try:\n",
        "        img_array = cv.imread(os.path.join(path,img),cv.IMREAD_GRAYSCALE)\n",
        "        new_array = cv.resize(img_array,(img_size,img_size))\n",
        "        training_data.append([new_array,class_num])\n",
        "      except Exception as e:\n",
        "        pass\n",
        "create_traning_data()\n",
        "print(len(training_data))"
      ],
      "metadata": {
        "colab": {
          "base_uri": "https://localhost:8080/"
        },
        "id": "mlWv1XmboZMu",
        "outputId": "07415d02-92bc-4818-95b4-ceabd35d3547"
      },
      "execution_count": null,
      "outputs": [
        {
          "output_type": "stream",
          "name": "stderr",
          "text": [
            "100%|██████████| 1000/1000 [00:12<00:00, 77.43it/s]\n",
            "100%|██████████| 1000/1000 [00:16<00:00, 59.76it/s]\n",
            "100%|██████████| 1000/1000 [00:16<00:00, 62.25it/s]\n",
            "100%|██████████| 1000/1000 [00:12<00:00, 77.01it/s]\n",
            "100%|██████████| 1000/1000 [00:13<00:00, 71.53it/s]\n",
            "100%|██████████| 1000/1000 [00:12<00:00, 80.56it/s]\n",
            "100%|██████████| 1000/1000 [00:12<00:00, 82.44it/s]\n",
            "100%|██████████| 1000/1000 [00:13<00:00, 75.32it/s]\n",
            "100%|██████████| 1000/1000 [00:12<00:00, 78.84it/s]\n",
            "100%|██████████| 1000/1000 [00:12<00:00, 77.73it/s] "
          ]
        },
        {
          "output_type": "stream",
          "name": "stdout",
          "text": [
            "10000\n"
          ]
        },
        {
          "output_type": "stream",
          "name": "stderr",
          "text": [
            "\n"
          ]
        }
      ]
    },
    {
      "cell_type": "code",
      "source": [
        "x=[]\n",
        "y=[]\n",
        "for features, label in training_data :\n",
        "  x.append(features)\n",
        "  y.append(label)\n",
        "x=np.array(x).reshape(-1,img_size,img_size,1)\n",
        "y=np.array(y)"
      ],
      "metadata": {
        "id": "yoz8yuz8ocGo"
      },
      "execution_count": null,
      "outputs": []
    },
    {
      "cell_type": "code",
      "source": [
        "from sklearn.model_selection import train_test_split\n",
        "x_train,x_test,y_train,y_test = train_test_split(x,y,test_size=0.2)"
      ],
      "metadata": {
        "id": "Tr7dbUraokhz"
      },
      "execution_count": null,
      "outputs": []
    },
    {
      "cell_type": "code",
      "source": [
        "x_train.shape"
      ],
      "metadata": {
        "colab": {
          "base_uri": "https://localhost:8080/"
        },
        "id": "7TCpiX44omvY",
        "outputId": "341221a9-6044-4aba-ab7f-4450e6bbe715"
      },
      "execution_count": null,
      "outputs": [
        {
          "output_type": "execute_result",
          "data": {
            "text/plain": [
              "(8000, 100, 100, 1)"
            ]
          },
          "metadata": {},
          "execution_count": 6
        }
      ]
    },
    {
      "cell_type": "code",
      "source": [
        "y_train.shape"
      ],
      "metadata": {
        "colab": {
          "base_uri": "https://localhost:8080/"
        },
        "id": "ph9AkSluosy_",
        "outputId": "97e5a0bf-86a9-4b2e-c5ca-a6ca78358ced"
      },
      "execution_count": null,
      "outputs": [
        {
          "output_type": "execute_result",
          "data": {
            "text/plain": [
              "(8000,)"
            ]
          },
          "metadata": {},
          "execution_count": 7
        }
      ]
    },
    {
      "cell_type": "code",
      "source": [
        "x_train = x_train.astype('float32')\n",
        "x_test = x_test.astype('float32')"
      ],
      "metadata": {
        "id": "k1bx40J3ouDN"
      },
      "execution_count": null,
      "outputs": []
    },
    {
      "cell_type": "code",
      "source": [
        "x_train/=255\n",
        "x_test/=255"
      ],
      "metadata": {
        "id": "vMKvhJDpovw7"
      },
      "execution_count": null,
      "outputs": []
    },
    {
      "cell_type": "code",
      "source": [
        "import keras\n",
        "from keras.models import Sequential\n",
        "from keras.layers import Dense, Dropout, Flatten, Activation\n",
        "from tensorflow.keras.layers import Conv2D\n",
        "from keras.layers.convolutional import MaxPooling2D\n",
        "from tensorflow.keras.utils import to_categorical"
      ],
      "metadata": {
        "id": "C_FGX0CGoxLf"
      },
      "execution_count": null,
      "outputs": []
    },
    {
      "cell_type": "code",
      "source": [
        "y_train = to_categorical(y_train,10)\n",
        "y_test = to_categorical(y_test,10)\n",
        "y_train.shape"
      ],
      "metadata": {
        "colab": {
          "base_uri": "https://localhost:8080/"
        },
        "id": "POsc1dW9oy6D",
        "outputId": "2cf2c336-6d2e-45a0-da7c-65171db429c9"
      },
      "execution_count": null,
      "outputs": [
        {
          "output_type": "execute_result",
          "data": {
            "text/plain": [
              "(8000, 10)"
            ]
          },
          "metadata": {},
          "execution_count": 11
        }
      ]
    },
    {
      "cell_type": "code",
      "source": [
        "model  = Sequential()\n",
        "model.add(Conv2D(32,(3,3),activation='relu',kernel_initializer='he_uniform',padding='same',input_shape=(100,100,1)))\n",
        "model.add(Conv2D(32,(3,3),activation='relu',kernel_initializer='he_uniform',padding='same'))\n",
        "model.add(MaxPooling2D((2,2)))\n",
        "model.add(Dropout(0.25))\n",
        "\n",
        "model.add(Conv2D(64,(3,3),activation='relu',kernel_initializer='he_uniform',padding='same'))\n",
        "model.add(Conv2D(64,(3,3),activation='relu',kernel_initializer='he_uniform',padding='same'))\n",
        "model.add(MaxPooling2D((2,2)))\n",
        "model.add(Dropout(0.25))\n",
        "\n",
        "model.add(Conv2D(128,(3,3),activation='relu',kernel_initializer='he_uniform',padding='same'))\n",
        "model.add(Conv2D(128,(3,3),activation='relu',kernel_initializer='he_uniform',padding='same'))\n",
        "model.add(MaxPooling2D((2,2)))\n",
        "model.add(Dropout(0.25))\n",
        "\n",
        "model.add(Flatten())\n",
        "model.add(Dense(128,activation='relu',kernel_initializer='he_uniform'))\n",
        "model.add(Dropout(0.25))\n",
        "model.add(Dense(10,activation='softmax'))\n",
        "model.summary()"
      ],
      "metadata": {
        "colab": {
          "base_uri": "https://localhost:8080/"
        },
        "id": "crITF4A7o37g",
        "outputId": "4ac4a236-bb56-4e9c-c8cc-fcfdf5ec28b0"
      },
      "execution_count": null,
      "outputs": [
        {
          "output_type": "stream",
          "name": "stdout",
          "text": [
            "Model: \"sequential\"\n",
            "_________________________________________________________________\n",
            " Layer (type)                Output Shape              Param #   \n",
            "=================================================================\n",
            " conv2d (Conv2D)             (None, 100, 100, 32)      320       \n",
            "                                                                 \n",
            " conv2d_1 (Conv2D)           (None, 100, 100, 32)      9248      \n",
            "                                                                 \n",
            " max_pooling2d (MaxPooling2D  (None, 50, 50, 32)       0         \n",
            " )                                                               \n",
            "                                                                 \n",
            " dropout (Dropout)           (None, 50, 50, 32)        0         \n",
            "                                                                 \n",
            " conv2d_2 (Conv2D)           (None, 50, 50, 64)        18496     \n",
            "                                                                 \n",
            " conv2d_3 (Conv2D)           (None, 50, 50, 64)        36928     \n",
            "                                                                 \n",
            " max_pooling2d_1 (MaxPooling  (None, 25, 25, 64)       0         \n",
            " 2D)                                                             \n",
            "                                                                 \n",
            " dropout_1 (Dropout)         (None, 25, 25, 64)        0         \n",
            "                                                                 \n",
            " conv2d_4 (Conv2D)           (None, 25, 25, 128)       73856     \n",
            "                                                                 \n",
            " conv2d_5 (Conv2D)           (None, 25, 25, 128)       147584    \n",
            "                                                                 \n",
            " max_pooling2d_2 (MaxPooling  (None, 12, 12, 128)      0         \n",
            " 2D)                                                             \n",
            "                                                                 \n",
            " dropout_2 (Dropout)         (None, 12, 12, 128)       0         \n",
            "                                                                 \n",
            " flatten (Flatten)           (None, 18432)             0         \n",
            "                                                                 \n",
            " dense (Dense)               (None, 128)               2359424   \n",
            "                                                                 \n",
            " dropout_3 (Dropout)         (None, 128)               0         \n",
            "                                                                 \n",
            " dense_1 (Dense)             (None, 10)                1290      \n",
            "                                                                 \n",
            "=================================================================\n",
            "Total params: 2,647,146\n",
            "Trainable params: 2,647,146\n",
            "Non-trainable params: 0\n",
            "_________________________________________________________________\n"
          ]
        }
      ]
    },
    {
      "cell_type": "code",
      "source": [
        "from tensorflow.keras.optimizers import SGD\n",
        "opt=SGD(lr=0.01,momentum=0.9)\n",
        "model.compile(opt,loss='categorical_crossentropy',metrics=['accuracy'])\n",
        "history = model.fit(x_train,y_train,batch_size=64,epochs=150,verbose=1, validation_data=(x_test,y_test))"
      ],
      "metadata": {
        "colab": {
          "base_uri": "https://localhost:8080/"
        },
        "id": "cMeO1f_fpGWw",
        "outputId": "fe8dde06-ddcf-4a0a-f2e2-ee21b38b3687"
      },
      "execution_count": null,
      "outputs": [
        {
          "output_type": "stream",
          "name": "stderr",
          "text": [
            "/usr/local/lib/python3.7/dist-packages/keras/optimizer_v2/gradient_descent.py:102: UserWarning: The `lr` argument is deprecated, use `learning_rate` instead.\n",
            "  super(SGD, self).__init__(name, **kwargs)\n"
          ]
        },
        {
          "output_type": "stream",
          "name": "stdout",
          "text": [
            "Epoch 1/150\n",
            "125/125 [==============================] - 21s 65ms/step - loss: 1.4634 - accuracy: 0.4896 - val_loss: 0.2181 - val_accuracy: 0.9415\n",
            "Epoch 2/150\n",
            "125/125 [==============================] - 8s 61ms/step - loss: 0.2062 - accuracy: 0.9285 - val_loss: 0.0108 - val_accuracy: 0.9965\n",
            "Epoch 3/150\n",
            "125/125 [==============================] - 8s 62ms/step - loss: 0.0902 - accuracy: 0.9704 - val_loss: 0.0062 - val_accuracy: 0.9995\n",
            "Epoch 4/150\n",
            "125/125 [==============================] - 8s 63ms/step - loss: 0.0456 - accuracy: 0.9845 - val_loss: 0.0027 - val_accuracy: 0.9985\n",
            "Epoch 5/150\n",
            "125/125 [==============================] - 8s 63ms/step - loss: 0.0354 - accuracy: 0.9872 - val_loss: 0.0016 - val_accuracy: 0.9995\n",
            "Epoch 6/150\n",
            "125/125 [==============================] - 8s 63ms/step - loss: 0.0282 - accuracy: 0.9901 - val_loss: 0.0033 - val_accuracy: 0.9990\n",
            "Epoch 7/150\n",
            "125/125 [==============================] - 8s 64ms/step - loss: 0.0291 - accuracy: 0.9902 - val_loss: 0.0022 - val_accuracy: 0.9995\n",
            "Epoch 8/150\n",
            "125/125 [==============================] - 8s 64ms/step - loss: 0.0204 - accuracy: 0.9929 - val_loss: 0.0010 - val_accuracy: 0.9995\n",
            "Epoch 9/150\n",
            "125/125 [==============================] - 8s 65ms/step - loss: 0.0178 - accuracy: 0.9939 - val_loss: 0.0050 - val_accuracy: 0.9980\n",
            "Epoch 10/150\n",
            "125/125 [==============================] - 8s 65ms/step - loss: 0.0114 - accuracy: 0.9964 - val_loss: 0.0016 - val_accuracy: 0.9995\n",
            "Epoch 11/150\n",
            "125/125 [==============================] - 8s 66ms/step - loss: 0.0136 - accuracy: 0.9948 - val_loss: 8.2708e-04 - val_accuracy: 1.0000\n",
            "Epoch 12/150\n",
            "125/125 [==============================] - 8s 66ms/step - loss: 0.0093 - accuracy: 0.9973 - val_loss: 1.9881e-04 - val_accuracy: 1.0000\n",
            "Epoch 13/150\n",
            "125/125 [==============================] - 8s 66ms/step - loss: 0.0069 - accuracy: 0.9970 - val_loss: 1.6158e-04 - val_accuracy: 1.0000\n",
            "Epoch 14/150\n",
            "125/125 [==============================] - 8s 67ms/step - loss: 0.0097 - accuracy: 0.9962 - val_loss: 0.0010 - val_accuracy: 0.9995\n",
            "Epoch 15/150\n",
            "125/125 [==============================] - 8s 66ms/step - loss: 0.0105 - accuracy: 0.9965 - val_loss: 0.0023 - val_accuracy: 0.9995\n",
            "Epoch 16/150\n",
            "125/125 [==============================] - 9s 71ms/step - loss: 0.0102 - accuracy: 0.9967 - val_loss: 2.4663e-04 - val_accuracy: 1.0000\n",
            "Epoch 17/150\n",
            "125/125 [==============================] - 8s 66ms/step - loss: 0.0073 - accuracy: 0.9975 - val_loss: 1.7184e-04 - val_accuracy: 1.0000\n",
            "Epoch 18/150\n",
            "125/125 [==============================] - 8s 66ms/step - loss: 0.0055 - accuracy: 0.9985 - val_loss: 1.3324e-05 - val_accuracy: 1.0000\n",
            "Epoch 19/150\n",
            "125/125 [==============================] - 8s 66ms/step - loss: 0.0037 - accuracy: 0.9986 - val_loss: 7.9206e-04 - val_accuracy: 0.9995\n",
            "Epoch 20/150\n",
            "125/125 [==============================] - 8s 66ms/step - loss: 0.0065 - accuracy: 0.9974 - val_loss: 0.0014 - val_accuracy: 0.9995\n",
            "Epoch 21/150\n",
            "125/125 [==============================] - 9s 71ms/step - loss: 0.0054 - accuracy: 0.9976 - val_loss: 2.2263e-04 - val_accuracy: 1.0000\n",
            "Epoch 22/150\n",
            "125/125 [==============================] - 8s 66ms/step - loss: 0.0044 - accuracy: 0.9989 - val_loss: 6.8488e-05 - val_accuracy: 1.0000\n",
            "Epoch 23/150\n",
            "125/125 [==============================] - 9s 71ms/step - loss: 0.0067 - accuracy: 0.9973 - val_loss: 4.3436e-04 - val_accuracy: 0.9995\n",
            "Epoch 24/150\n",
            "125/125 [==============================] - 8s 66ms/step - loss: 0.0072 - accuracy: 0.9975 - val_loss: 0.0012 - val_accuracy: 0.9995\n",
            "Epoch 25/150\n",
            "125/125 [==============================] - 8s 67ms/step - loss: 0.0045 - accuracy: 0.9989 - val_loss: 1.1891e-04 - val_accuracy: 1.0000\n",
            "Epoch 26/150\n",
            "125/125 [==============================] - 8s 66ms/step - loss: 0.0052 - accuracy: 0.9990 - val_loss: 5.6255e-04 - val_accuracy: 0.9995\n",
            "Epoch 27/150\n",
            "125/125 [==============================] - 8s 66ms/step - loss: 0.0037 - accuracy: 0.9986 - val_loss: 3.5233e-04 - val_accuracy: 1.0000\n",
            "Epoch 28/150\n",
            "125/125 [==============================] - 9s 71ms/step - loss: 0.0048 - accuracy: 0.9984 - val_loss: 2.6464e-04 - val_accuracy: 1.0000\n",
            "Epoch 29/150\n",
            "125/125 [==============================] - 8s 66ms/step - loss: 0.0059 - accuracy: 0.9981 - val_loss: 1.7227e-04 - val_accuracy: 1.0000\n",
            "Epoch 30/150\n",
            "125/125 [==============================] - 8s 67ms/step - loss: 0.0039 - accuracy: 0.9989 - val_loss: 1.4827e-05 - val_accuracy: 1.0000\n",
            "Epoch 31/150\n",
            "125/125 [==============================] - 8s 67ms/step - loss: 0.0031 - accuracy: 0.9987 - val_loss: 1.1629e-04 - val_accuracy: 1.0000\n",
            "Epoch 32/150\n",
            "125/125 [==============================] - 8s 67ms/step - loss: 0.0072 - accuracy: 0.9980 - val_loss: 9.9894e-06 - val_accuracy: 1.0000\n",
            "Epoch 33/150\n",
            "125/125 [==============================] - 8s 67ms/step - loss: 0.0027 - accuracy: 0.9990 - val_loss: 1.4777e-05 - val_accuracy: 1.0000\n",
            "Epoch 34/150\n",
            "125/125 [==============================] - 8s 67ms/step - loss: 0.0035 - accuracy: 0.9991 - val_loss: 4.4705e-04 - val_accuracy: 0.9995\n",
            "Epoch 35/150\n",
            "125/125 [==============================] - 8s 67ms/step - loss: 0.0043 - accuracy: 0.9984 - val_loss: 1.0089e-04 - val_accuracy: 1.0000\n",
            "Epoch 36/150\n",
            "125/125 [==============================] - 9s 71ms/step - loss: 0.0027 - accuracy: 0.9989 - val_loss: 1.4550e-04 - val_accuracy: 1.0000\n",
            "Epoch 37/150\n",
            "125/125 [==============================] - 8s 67ms/step - loss: 0.0041 - accuracy: 0.9985 - val_loss: 6.0069e-04 - val_accuracy: 0.9995\n",
            "Epoch 38/150\n",
            "125/125 [==============================] - 8s 67ms/step - loss: 0.0059 - accuracy: 0.9977 - val_loss: 1.7039e-04 - val_accuracy: 1.0000\n",
            "Epoch 39/150\n",
            "125/125 [==============================] - 8s 67ms/step - loss: 0.0060 - accuracy: 0.9984 - val_loss: 4.2639e-04 - val_accuracy: 1.0000\n",
            "Epoch 40/150\n",
            "125/125 [==============================] - 8s 66ms/step - loss: 0.0010 - accuracy: 0.9998 - val_loss: 0.0016 - val_accuracy: 0.9995\n",
            "Epoch 41/150\n",
            "125/125 [==============================] - 8s 66ms/step - loss: 0.0021 - accuracy: 0.9991 - val_loss: 0.0014 - val_accuracy: 0.9995\n",
            "Epoch 42/150\n",
            "125/125 [==============================] - 8s 66ms/step - loss: 0.0037 - accuracy: 0.9985 - val_loss: 0.0021 - val_accuracy: 0.9995\n",
            "Epoch 43/150\n",
            "125/125 [==============================] - 8s 67ms/step - loss: 0.0048 - accuracy: 0.9984 - val_loss: 1.9188e-05 - val_accuracy: 1.0000\n",
            "Epoch 44/150\n",
            "125/125 [==============================] - 8s 67ms/step - loss: 0.0024 - accuracy: 0.9991 - val_loss: 7.8035e-06 - val_accuracy: 1.0000\n",
            "Epoch 45/150\n",
            "125/125 [==============================] - 8s 67ms/step - loss: 0.0023 - accuracy: 0.9990 - val_loss: 6.9293e-05 - val_accuracy: 1.0000\n",
            "Epoch 46/150\n",
            "125/125 [==============================] - 8s 66ms/step - loss: 0.0023 - accuracy: 0.9991 - val_loss: 1.6573e-05 - val_accuracy: 1.0000\n",
            "Epoch 47/150\n",
            "125/125 [==============================] - 9s 71ms/step - loss: 0.0034 - accuracy: 0.9990 - val_loss: 9.0051e-05 - val_accuracy: 1.0000\n",
            "Epoch 48/150\n",
            "125/125 [==============================] - 8s 67ms/step - loss: 0.0021 - accuracy: 0.9994 - val_loss: 0.0011 - val_accuracy: 0.9995\n",
            "Epoch 49/150\n",
            "125/125 [==============================] - 9s 71ms/step - loss: 0.0017 - accuracy: 0.9995 - val_loss: 1.4023e-04 - val_accuracy: 1.0000\n",
            "Epoch 50/150\n",
            "125/125 [==============================] - 8s 67ms/step - loss: 0.0020 - accuracy: 0.9992 - val_loss: 0.0010 - val_accuracy: 0.9995\n",
            "Epoch 51/150\n",
            "125/125 [==============================] - 8s 67ms/step - loss: 0.0025 - accuracy: 0.9990 - val_loss: 0.0016 - val_accuracy: 0.9995\n",
            "Epoch 52/150\n",
            "125/125 [==============================] - 8s 67ms/step - loss: 0.0020 - accuracy: 0.9995 - val_loss: 0.0010 - val_accuracy: 0.9995\n",
            "Epoch 53/150\n",
            "125/125 [==============================] - 8s 66ms/step - loss: 0.0037 - accuracy: 0.9983 - val_loss: 2.0438e-04 - val_accuracy: 1.0000\n",
            "Epoch 54/150\n",
            "125/125 [==============================] - 9s 71ms/step - loss: 0.0040 - accuracy: 0.9984 - val_loss: 4.9627e-06 - val_accuracy: 1.0000\n",
            "Epoch 55/150\n",
            "125/125 [==============================] - 8s 67ms/step - loss: 0.0021 - accuracy: 0.9989 - val_loss: 1.0938e-04 - val_accuracy: 1.0000\n",
            "Epoch 56/150\n",
            "125/125 [==============================] - 8s 67ms/step - loss: 0.0033 - accuracy: 0.9985 - val_loss: 6.2376e-06 - val_accuracy: 1.0000\n",
            "Epoch 57/150\n",
            "125/125 [==============================] - 8s 67ms/step - loss: 0.0015 - accuracy: 0.9995 - val_loss: 7.9329e-06 - val_accuracy: 1.0000\n",
            "Epoch 58/150\n",
            "125/125 [==============================] - 8s 67ms/step - loss: 8.9572e-04 - accuracy: 0.9998 - val_loss: 1.0887e-06 - val_accuracy: 1.0000\n",
            "Epoch 59/150\n",
            "125/125 [==============================] - 9s 71ms/step - loss: 0.0043 - accuracy: 0.9989 - val_loss: 3.9060e-06 - val_accuracy: 1.0000\n",
            "Epoch 60/150\n",
            "125/125 [==============================] - 9s 71ms/step - loss: 0.0016 - accuracy: 0.9995 - val_loss: 1.1532e-05 - val_accuracy: 1.0000\n",
            "Epoch 61/150\n",
            "125/125 [==============================] - 8s 67ms/step - loss: 0.0014 - accuracy: 0.9996 - val_loss: 1.4996e-04 - val_accuracy: 1.0000\n",
            "Epoch 62/150\n",
            "125/125 [==============================] - 8s 67ms/step - loss: 0.0027 - accuracy: 0.9996 - val_loss: 3.7453e-06 - val_accuracy: 1.0000\n",
            "Epoch 63/150\n",
            "125/125 [==============================] - 8s 67ms/step - loss: 0.0014 - accuracy: 0.9996 - val_loss: 7.0515e-07 - val_accuracy: 1.0000\n",
            "Epoch 64/150\n",
            "125/125 [==============================] - 8s 67ms/step - loss: 0.0015 - accuracy: 0.9994 - val_loss: 4.9757e-06 - val_accuracy: 1.0000\n",
            "Epoch 65/150\n",
            "125/125 [==============================] - 8s 66ms/step - loss: 0.0025 - accuracy: 0.9989 - val_loss: 2.1015e-06 - val_accuracy: 1.0000\n",
            "Epoch 66/150\n",
            "125/125 [==============================] - 8s 66ms/step - loss: 0.0041 - accuracy: 0.9986 - val_loss: 3.5876e-05 - val_accuracy: 1.0000\n",
            "Epoch 67/150\n",
            "125/125 [==============================] - 8s 67ms/step - loss: 0.0014 - accuracy: 0.9994 - val_loss: 3.7550e-06 - val_accuracy: 1.0000\n",
            "Epoch 68/150\n",
            "125/125 [==============================] - 8s 67ms/step - loss: 0.0017 - accuracy: 0.9992 - val_loss: 2.4089e-07 - val_accuracy: 1.0000\n",
            "Epoch 69/150\n",
            "125/125 [==============================] - 8s 67ms/step - loss: 0.0032 - accuracy: 0.9991 - val_loss: 0.0020 - val_accuracy: 0.9995\n",
            "Epoch 70/150\n",
            "125/125 [==============================] - 8s 66ms/step - loss: 0.0048 - accuracy: 0.9986 - val_loss: 8.9394e-04 - val_accuracy: 0.9995\n",
            "Epoch 71/150\n",
            "125/125 [==============================] - 8s 67ms/step - loss: 0.0029 - accuracy: 0.9991 - val_loss: 3.8130e-06 - val_accuracy: 1.0000\n",
            "Epoch 72/150\n",
            "125/125 [==============================] - 8s 67ms/step - loss: 0.0019 - accuracy: 0.9995 - val_loss: 2.2612e-06 - val_accuracy: 1.0000\n",
            "Epoch 73/150\n",
            "125/125 [==============================] - 8s 67ms/step - loss: 9.2064e-04 - accuracy: 0.9996 - val_loss: 1.2106e-06 - val_accuracy: 1.0000\n",
            "Epoch 74/150\n",
            "125/125 [==============================] - 8s 67ms/step - loss: 7.2567e-04 - accuracy: 0.9998 - val_loss: 1.5508e-07 - val_accuracy: 1.0000\n",
            "Epoch 75/150\n",
            "125/125 [==============================] - 8s 67ms/step - loss: 9.4590e-04 - accuracy: 0.9998 - val_loss: 7.9437e-05 - val_accuracy: 1.0000\n",
            "Epoch 76/150\n",
            "125/125 [==============================] - 8s 67ms/step - loss: 0.0026 - accuracy: 0.9991 - val_loss: 4.6674e-05 - val_accuracy: 1.0000\n",
            "Epoch 77/150\n",
            "125/125 [==============================] - 8s 66ms/step - loss: 0.0046 - accuracy: 0.9987 - val_loss: 7.8835e-06 - val_accuracy: 1.0000\n",
            "Epoch 78/150\n",
            "125/125 [==============================] - 8s 66ms/step - loss: 0.0015 - accuracy: 0.9994 - val_loss: 1.4180e-04 - val_accuracy: 1.0000\n",
            "Epoch 79/150\n",
            "125/125 [==============================] - 8s 66ms/step - loss: 0.0013 - accuracy: 0.9996 - val_loss: 0.0017 - val_accuracy: 0.9995\n",
            "Epoch 80/150\n",
            "125/125 [==============================] - 8s 66ms/step - loss: 0.0011 - accuracy: 0.9996 - val_loss: 0.0014 - val_accuracy: 0.9995\n",
            "Epoch 81/150\n",
            "125/125 [==============================] - 8s 66ms/step - loss: 0.0012 - accuracy: 0.9994 - val_loss: 2.0257e-04 - val_accuracy: 1.0000\n",
            "Epoch 82/150\n",
            "125/125 [==============================] - 8s 66ms/step - loss: 5.5305e-04 - accuracy: 0.9999 - val_loss: 1.8548e-04 - val_accuracy: 1.0000\n",
            "Epoch 83/150\n",
            "125/125 [==============================] - 8s 66ms/step - loss: 4.9469e-04 - accuracy: 0.9999 - val_loss: 5.0303e-06 - val_accuracy: 1.0000\n",
            "Epoch 84/150\n",
            "125/125 [==============================] - 8s 66ms/step - loss: 0.0019 - accuracy: 0.9991 - val_loss: 8.5940e-07 - val_accuracy: 1.0000\n",
            "Epoch 85/150\n",
            "125/125 [==============================] - 8s 66ms/step - loss: 0.0018 - accuracy: 0.9994 - val_loss: 1.9893e-06 - val_accuracy: 1.0000\n",
            "Epoch 86/150\n",
            "125/125 [==============================] - 8s 66ms/step - loss: 0.0015 - accuracy: 0.9992 - val_loss: 1.1370e-04 - val_accuracy: 1.0000\n",
            "Epoch 87/150\n",
            "125/125 [==============================] - 9s 71ms/step - loss: 5.5601e-04 - accuracy: 0.9999 - val_loss: 6.9330e-05 - val_accuracy: 1.0000\n",
            "Epoch 88/150\n",
            "125/125 [==============================] - 8s 66ms/step - loss: 6.0900e-04 - accuracy: 0.9998 - val_loss: 2.0144e-06 - val_accuracy: 1.0000\n",
            "Epoch 89/150\n",
            "125/125 [==============================] - 8s 66ms/step - loss: 6.6491e-04 - accuracy: 0.9998 - val_loss: 7.9582e-07 - val_accuracy: 1.0000\n",
            "Epoch 90/150\n",
            "125/125 [==============================] - 8s 66ms/step - loss: 0.0016 - accuracy: 0.9994 - val_loss: 3.8961e-06 - val_accuracy: 1.0000\n",
            "Epoch 91/150\n",
            "125/125 [==============================] - 8s 67ms/step - loss: 0.0010 - accuracy: 0.9995 - val_loss: 3.0420e-07 - val_accuracy: 1.0000\n",
            "Epoch 92/150\n",
            "125/125 [==============================] - 8s 67ms/step - loss: 0.0024 - accuracy: 0.9987 - val_loss: 5.1974e-08 - val_accuracy: 1.0000\n",
            "Epoch 93/150\n",
            "125/125 [==============================] - 8s 67ms/step - loss: 0.0026 - accuracy: 0.9994 - val_loss: 2.7670e-05 - val_accuracy: 1.0000\n",
            "Epoch 94/150\n",
            "125/125 [==============================] - 8s 66ms/step - loss: 0.0035 - accuracy: 0.9990 - val_loss: 1.2488e-05 - val_accuracy: 1.0000\n",
            "Epoch 95/150\n",
            "125/125 [==============================] - 8s 67ms/step - loss: 0.0016 - accuracy: 0.9992 - val_loss: 9.3794e-05 - val_accuracy: 1.0000\n",
            "Epoch 96/150\n",
            "125/125 [==============================] - 9s 71ms/step - loss: 0.0023 - accuracy: 0.9994 - val_loss: 3.3805e-05 - val_accuracy: 1.0000\n",
            "Epoch 97/150\n",
            "125/125 [==============================] - 8s 67ms/step - loss: 0.0018 - accuracy: 0.9992 - val_loss: 3.8819e-05 - val_accuracy: 1.0000\n",
            "Epoch 98/150\n",
            "125/125 [==============================] - 8s 66ms/step - loss: 9.6660e-04 - accuracy: 0.9998 - val_loss: 3.5492e-06 - val_accuracy: 1.0000\n",
            "Epoch 99/150\n",
            "125/125 [==============================] - 8s 66ms/step - loss: 0.0013 - accuracy: 0.9992 - val_loss: 1.9550e-08 - val_accuracy: 1.0000\n",
            "Epoch 100/150\n",
            "125/125 [==============================] - 9s 71ms/step - loss: 0.0027 - accuracy: 0.9995 - val_loss: 4.6283e-07 - val_accuracy: 1.0000\n",
            "Epoch 101/150\n",
            "125/125 [==============================] - 8s 66ms/step - loss: 0.0010 - accuracy: 0.9998 - val_loss: 7.7121e-06 - val_accuracy: 1.0000\n",
            "Epoch 102/150\n",
            "125/125 [==============================] - 8s 66ms/step - loss: 0.0011 - accuracy: 0.9996 - val_loss: 6.9845e-07 - val_accuracy: 1.0000\n",
            "Epoch 103/150\n",
            "125/125 [==============================] - 8s 66ms/step - loss: 0.0014 - accuracy: 0.9994 - val_loss: 5.6219e-07 - val_accuracy: 1.0000\n",
            "Epoch 104/150\n",
            "125/125 [==============================] - 8s 66ms/step - loss: 3.3788e-04 - accuracy: 0.9999 - val_loss: 7.6507e-07 - val_accuracy: 1.0000\n",
            "Epoch 105/150\n",
            "125/125 [==============================] - 8s 66ms/step - loss: 0.0035 - accuracy: 0.9992 - val_loss: 4.9657e-06 - val_accuracy: 1.0000\n",
            "Epoch 106/150\n",
            "125/125 [==============================] - 8s 66ms/step - loss: 0.0011 - accuracy: 0.9995 - val_loss: 2.5061e-06 - val_accuracy: 1.0000\n",
            "Epoch 107/150\n",
            "125/125 [==============================] - 8s 66ms/step - loss: 2.3132e-04 - accuracy: 0.9999 - val_loss: 2.5638e-07 - val_accuracy: 1.0000\n",
            "Epoch 108/150\n",
            "125/125 [==============================] - 8s 66ms/step - loss: 9.2596e-04 - accuracy: 0.9998 - val_loss: 4.5847e-07 - val_accuracy: 1.0000\n",
            "Epoch 109/150\n",
            "125/125 [==============================] - 8s 66ms/step - loss: 9.6911e-04 - accuracy: 0.9996 - val_loss: 1.8690e-06 - val_accuracy: 1.0000\n",
            "Epoch 110/150\n",
            "125/125 [==============================] - 8s 66ms/step - loss: 9.3831e-04 - accuracy: 0.9996 - val_loss: 2.0627e-06 - val_accuracy: 1.0000\n",
            "Epoch 111/150\n",
            "125/125 [==============================] - 8s 66ms/step - loss: 0.0011 - accuracy: 0.9996 - val_loss: 8.2247e-07 - val_accuracy: 1.0000\n",
            "Epoch 112/150\n",
            "125/125 [==============================] - 8s 66ms/step - loss: 0.0033 - accuracy: 0.9992 - val_loss: 5.5849e-08 - val_accuracy: 1.0000\n",
            "Epoch 113/150\n",
            "125/125 [==============================] - 8s 66ms/step - loss: 0.0010 - accuracy: 0.9998 - val_loss: 2.6792e-07 - val_accuracy: 1.0000\n",
            "Epoch 114/150\n",
            "125/125 [==============================] - 8s 66ms/step - loss: 0.0014 - accuracy: 0.9998 - val_loss: 5.4763e-07 - val_accuracy: 1.0000\n",
            "Epoch 115/150\n",
            "125/125 [==============================] - 8s 66ms/step - loss: 0.0028 - accuracy: 0.9992 - val_loss: 3.3565e-07 - val_accuracy: 1.0000\n",
            "Epoch 116/150\n",
            "125/125 [==============================] - 8s 66ms/step - loss: 6.3594e-04 - accuracy: 1.0000 - val_loss: 2.4157e-06 - val_accuracy: 1.0000\n",
            "Epoch 117/150\n",
            "125/125 [==============================] - 8s 66ms/step - loss: 4.8840e-04 - accuracy: 0.9999 - val_loss: 4.3124e-07 - val_accuracy: 1.0000\n",
            "Epoch 118/150\n",
            "125/125 [==============================] - 8s 66ms/step - loss: 7.8327e-04 - accuracy: 0.9996 - val_loss: 2.2520e-07 - val_accuracy: 1.0000\n",
            "Epoch 119/150\n",
            "125/125 [==============================] - 8s 66ms/step - loss: 5.7060e-04 - accuracy: 0.9998 - val_loss: 1.5500e-06 - val_accuracy: 1.0000\n",
            "Epoch 120/150\n",
            "125/125 [==============================] - 8s 66ms/step - loss: 8.9726e-04 - accuracy: 0.9996 - val_loss: 5.5848e-08 - val_accuracy: 1.0000\n",
            "Epoch 121/150\n",
            "125/125 [==============================] - 8s 66ms/step - loss: 4.4727e-04 - accuracy: 0.9999 - val_loss: 3.0058e-07 - val_accuracy: 1.0000\n",
            "Epoch 122/150\n",
            "125/125 [==============================] - 8s 66ms/step - loss: 3.0973e-04 - accuracy: 1.0000 - val_loss: 1.0787e-07 - val_accuracy: 1.0000\n",
            "Epoch 123/150\n",
            "125/125 [==============================] - 8s 66ms/step - loss: 1.5295e-04 - accuracy: 1.0000 - val_loss: 3.0636e-08 - val_accuracy: 1.0000\n",
            "Epoch 124/150\n",
            "125/125 [==============================] - 8s 66ms/step - loss: 6.9332e-04 - accuracy: 0.9998 - val_loss: 1.0669e-08 - val_accuracy: 1.0000\n",
            "Epoch 125/150\n",
            "125/125 [==============================] - 8s 66ms/step - loss: 6.1910e-04 - accuracy: 0.9999 - val_loss: 6.0862e-06 - val_accuracy: 1.0000\n",
            "Epoch 126/150\n",
            "125/125 [==============================] - 9s 71ms/step - loss: 0.0025 - accuracy: 0.9991 - val_loss: 2.3067e-08 - val_accuracy: 1.0000\n",
            "Epoch 127/150\n",
            "125/125 [==============================] - 8s 66ms/step - loss: 7.8507e-04 - accuracy: 0.9995 - val_loss: 4.8696e-08 - val_accuracy: 1.0000\n",
            "Epoch 128/150\n",
            "125/125 [==============================] - 8s 66ms/step - loss: 4.5841e-04 - accuracy: 0.9998 - val_loss: 1.3165e-07 - val_accuracy: 1.0000\n",
            "Epoch 129/150\n",
            "125/125 [==============================] - 8s 66ms/step - loss: 0.0010 - accuracy: 0.9992 - val_loss: 1.1807e-07 - val_accuracy: 1.0000\n",
            "Epoch 130/150\n",
            "125/125 [==============================] - 8s 67ms/step - loss: 6.3365e-04 - accuracy: 0.9999 - val_loss: 2.0676e-06 - val_accuracy: 1.0000\n",
            "Epoch 131/150\n",
            "125/125 [==============================] - 8s 67ms/step - loss: 0.0018 - accuracy: 0.9992 - val_loss: 1.4848e-05 - val_accuracy: 1.0000\n",
            "Epoch 132/150\n",
            "125/125 [==============================] - 8s 66ms/step - loss: 4.2716e-04 - accuracy: 0.9999 - val_loss: 7.0899e-06 - val_accuracy: 1.0000\n",
            "Epoch 133/150\n",
            "125/125 [==============================] - 8s 66ms/step - loss: 0.0035 - accuracy: 0.9994 - val_loss: 3.7539e-04 - val_accuracy: 0.9995\n",
            "Epoch 134/150\n",
            "125/125 [==============================] - 8s 66ms/step - loss: 4.4023e-04 - accuracy: 0.9999 - val_loss: 3.1916e-05 - val_accuracy: 1.0000\n",
            "Epoch 135/150\n",
            "125/125 [==============================] - 8s 67ms/step - loss: 0.0012 - accuracy: 0.9996 - val_loss: 2.0948e-04 - val_accuracy: 1.0000\n",
            "Epoch 136/150\n",
            "125/125 [==============================] - 8s 66ms/step - loss: 3.7954e-04 - accuracy: 0.9999 - val_loss: 0.0015 - val_accuracy: 0.9995\n",
            "Epoch 137/150\n",
            "125/125 [==============================] - 8s 66ms/step - loss: 8.4354e-04 - accuracy: 0.9998 - val_loss: 7.2309e-04 - val_accuracy: 0.9995\n",
            "Epoch 138/150\n",
            "125/125 [==============================] - 8s 66ms/step - loss: 9.1406e-04 - accuracy: 0.9995 - val_loss: 5.0577e-04 - val_accuracy: 0.9995\n",
            "Epoch 139/150\n",
            "125/125 [==============================] - 8s 66ms/step - loss: 0.0013 - accuracy: 0.9995 - val_loss: 8.5453e-04 - val_accuracy: 0.9995\n",
            "Epoch 140/150\n",
            "125/125 [==============================] - 8s 66ms/step - loss: 0.0023 - accuracy: 0.9995 - val_loss: 6.0890e-04 - val_accuracy: 0.9995\n",
            "Epoch 141/150\n",
            "125/125 [==============================] - 8s 67ms/step - loss: 0.0019 - accuracy: 0.9995 - val_loss: 2.9202e-07 - val_accuracy: 1.0000\n",
            "Epoch 142/150\n",
            "125/125 [==============================] - 9s 71ms/step - loss: 9.5497e-04 - accuracy: 0.9998 - val_loss: 1.7622e-06 - val_accuracy: 1.0000\n",
            "Epoch 143/150\n",
            "125/125 [==============================] - 8s 67ms/step - loss: 5.4938e-04 - accuracy: 0.9999 - val_loss: 1.1962e-07 - val_accuracy: 1.0000\n",
            "Epoch 144/150\n",
            "125/125 [==============================] - 9s 71ms/step - loss: 7.8558e-04 - accuracy: 0.9995 - val_loss: 1.8994e-07 - val_accuracy: 1.0000\n",
            "Epoch 145/150\n",
            "125/125 [==============================] - 8s 66ms/step - loss: 2.0852e-04 - accuracy: 1.0000 - val_loss: 6.2820e-08 - val_accuracy: 1.0000\n",
            "Epoch 146/150\n",
            "125/125 [==============================] - 8s 66ms/step - loss: 5.4911e-04 - accuracy: 0.9999 - val_loss: 3.3139e-08 - val_accuracy: 1.0000\n",
            "Epoch 147/150\n",
            "125/125 [==============================] - 8s 66ms/step - loss: 3.2221e-04 - accuracy: 1.0000 - val_loss: 1.9451e-07 - val_accuracy: 1.0000\n",
            "Epoch 148/150\n",
            "125/125 [==============================] - 8s 66ms/step - loss: 2.3290e-04 - accuracy: 1.0000 - val_loss: 3.2662e-08 - val_accuracy: 1.0000\n",
            "Epoch 149/150\n",
            "125/125 [==============================] - 8s 67ms/step - loss: 1.1996e-04 - accuracy: 1.0000 - val_loss: 2.1219e-08 - val_accuracy: 1.0000\n",
            "Epoch 150/150\n",
            "125/125 [==============================] - 8s 67ms/step - loss: 9.5781e-05 - accuracy: 1.0000 - val_loss: 2.2113e-08 - val_accuracy: 1.0000\n"
          ]
        }
      ]
    },
    {
      "cell_type": "code",
      "source": [
        "model.save('AI_Handsign.h5')"
      ],
      "metadata": {
        "id": "WpoLY_OgvPM1"
      },
      "execution_count": null,
      "outputs": []
    },
    {
      "cell_type": "code",
      "source": [
        "from keras.models import load_model\n",
        "from keras.preprocessing.image import load_img,img_to_array"
      ],
      "metadata": {
        "id": "40YR7S0608iD"
      },
      "execution_count": null,
      "outputs": []
    },
    {
      "cell_type": "code",
      "source": [
        "# load and prepare the image\n",
        "def load_image(filename):\n",
        "\t# load the image\n",
        "\timg = load_img(filename, target_size=(100, 100))\t\n",
        "\t\n",
        "\treturn img\n",
        "labels = {0: 'palm',1: 'l',2: 'fist',3:'fist_moved',4:'thumb',5:'index',6:'ok',7:'palm_moved',8:'c',9:'down'}\n",
        "model = load_model('AI_Handsign.h5')"
      ],
      "metadata": {
        "id": "FrmGJDGE1Hfh"
      },
      "execution_count": null,
      "outputs": []
    },
    {
      "cell_type": "code",
      "source": [
        "img = load_image('/content/drive/MyDrive/Handsign/08/06_index/frame_08_06_0001.png')\n",
        "plt.imshow(img)\n",
        "img = img_to_array(img)\n",
        "img.shape\n",
        "img = cv.cvtColor(img,cv.COLOR_BGR2GRAY)\n",
        "img = img.reshape(1,100,100,1)  \n",
        "img.shape\n",
        "result = model.predict(img)\n",
        "print(result)\n",
        "np.argmax(result) \n",
        "print('expectation',labels[np.argmax(result)])"
      ],
      "metadata": {
        "colab": {
          "base_uri": "https://localhost:8080/",
          "height": 303
        },
        "id": "D214D9io1caP",
        "outputId": "4e83458c-3d6c-4ff8-ff0f-ed779df01220"
      },
      "execution_count": null,
      "outputs": [
        {
          "output_type": "stream",
          "name": "stdout",
          "text": [
            "[[0. 0. 0. 0. 0. 1. 0. 0. 0. 0.]]\n",
            "expectation index\n"
          ]
        },
        {
          "output_type": "display_data",
          "data": {
            "text/plain": [
              "<Figure size 432x288 with 1 Axes>"
            ],
            "image/png": "[encoded data removed]"
          },
          "metadata": {
            "needs_background": "light"
          }
        }
      ]
    },
    {
      "cell_type": "code",
      "source": [
        "img = load_image('/content/drive/MyDrive/Handsign/08/09_c/frame_08_09_0005.png')\n",
        "plt.imshow(img)\n",
        "img = img_to_array(img)\n",
        "img.shape\n",
        "img = cv.cvtColor(img,cv.COLOR_BGR2GRAY)\n",
        "img = img.reshape(1,100,100,1)  \n",
        "img.shape\n",
        "result = model.predict(img)\n",
        "print(result)\n",
        "np.argmax(result) \n",
        "print('expectation',labels[np.argmax(result)])"
      ],
      "metadata": {
        "colab": {
          "base_uri": "https://localhost:8080/",
          "height": 303
        },
        "id": "5SpX5JjP1qWZ",
        "outputId": "d729e034-b28c-4876-ebf7-07637c0b90b5"
      },
      "execution_count": null,
      "outputs": [
        {
          "output_type": "stream",
          "name": "stdout",
          "text": [
            "[[0. 0. 0. 0. 0. 0. 0. 0. 1. 0.]]\n",
            "expectation c\n"
          ]
        },
        {
          "output_type": "display_data",
          "data": {
            "text/plain": [
              "<Figure size 432x288 with 1 Axes>"
            ],
            "image/png": "[encoded data removed]"
          },
          "metadata": {
            "needs_background": "light"
          }
        }
      ]
    },
    {
      "cell_type": "code",
      "source": [
        "img = load_image('/content/drive/MyDrive/Handsign/08/10_down/frame_08_10_0013.png')\n",
        "plt.imshow(img)\n",
        "img = img_to_array(img)\n",
        "img.shape\n",
        "img = cv.cvtColor(img,cv.COLOR_BGR2GRAY)\n",
        "img = img.reshape(1,100,100,1)  \n",
        "img.shape\n",
        "result = model.predict(img)\n",
        "print(result)\n",
        "np.argmax(result) \n",
        "print('expectation',labels[np.argmax(result)])"
      ],
      "metadata": {
        "colab": {
          "base_uri": "https://localhost:8080/",
          "height": 303
        },
        "id": "XS-R9qsk11AG",
        "outputId": "ab291f7e-6ba7-4430-f32d-e7e7091c7975"
      },
      "execution_count": null,
      "outputs": [
        {
          "output_type": "stream",
          "name": "stdout",
          "text": [
            "[[0. 0. 0. 0. 0. 0. 0. 0. 0. 1.]]\n",
            "expectation down\n"
          ]
        },
        {
          "output_type": "display_data",
          "data": {
            "text/plain": [
              "<Figure size 432x288 with 1 Axes>"
            ],
            "image/png": "[encoded data removed]"
          },
          "metadata": {
            "needs_background": "light"
          }
        }
      ]
    },
    {
      "cell_type": "code",
      "source": [
        ""
      ],
      "metadata": {
        "id": "Xoy3LW622BZW"
      },
      "execution_count": null,
      "outputs": []
    }
  ]
}